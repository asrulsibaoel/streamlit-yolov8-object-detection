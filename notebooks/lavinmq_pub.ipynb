{
 "cells": [
  {
   "cell_type": "code",
   "execution_count": 1,
   "metadata": {},
   "outputs": [],
   "source": [
    "import asyncio\n",
    "from typing import Optional\n",
    "\n",
    "import aiormq\n",
    "from aiormq.abc import DeliveredMessage"
   ]
  },
  {
   "cell_type": "code",
   "execution_count": 2,
   "metadata": {},
   "outputs": [],
   "source": [
    "host = \"103.47.210.242\"\n",
    "port = 25672\n",
    "username = \"guest\"\n",
    "password = \"guest\"\n",
    "\n",
    "routing_key = \"hello\""
   ]
  },
  {
   "cell_type": "code",
   "execution_count": 9,
   "metadata": {},
   "outputs": [],
   "source": [
    "class LevinPublisher():\n",
    "    \n",
    "    def __init__(\n",
    "        self, \n",
    "        host: str = \"localhost\",\n",
    "        port: int = 25672,\n",
    "        username: str = \"guest\",\n",
    "        password: str = \"guest\",\n",
    "        routing: str = \"hello\") -> None:\n",
    "        \n",
    "        self.uri = f\"amqp://{username}:{password}@{host}:{port}//\"\n",
    "        self.routing = routing\n",
    "        \n",
    "    async def init(self):\n",
    "        # Perform connection\n",
    "        connection = await aiormq.connect(self.uri)\n",
    "\n",
    "        # Creating a channel\n",
    "        self.channel = await connection.channel()\n",
    "\n",
    "        self.declare_ok = await self.channel.queue_declare(self.routing, auto_delete=True)\n",
    "        \n",
    "\n",
    "    async def send_message(self, message: str) -> None:\n",
    "        \n",
    "        # Sending the message\n",
    "        await self.channel.basic_publish(str.encode(message))\n",
    "        print(f\" [x] Sent {message}\")\n",
    "\n",
    "        # response = await self.channel.basic_get(self.declare_ok.queue)\n",
    "        # print(f\" [x] Received message from {self.declare_ok.queue!r}\")\n",
    "        # print(response)\n"
   ]
  },
  {
   "cell_type": "code",
   "execution_count": 12,
   "metadata": {},
   "outputs": [],
   "source": [
    "async def main():\n",
    "    publisher = LevinPublisher(host, port, username, password, routing_key)\n",
    "    await publisher.init()\n",
    "    \n",
    "    message = \" Haha Hihihi yang ke: \"\n",
    "    \n",
    "    count = 0\n",
    "    while count < 10:\n",
    "        await publisher.send_message(message=message + str(count))\n",
    "        count +=1"
   ]
  },
  {
   "cell_type": "code",
   "execution_count": 16,
   "metadata": {},
   "outputs": [
    {
     "name": "stdout",
     "output_type": "stream",
     "text": [
      " [x] Sent  Haha Hihihi yang ke: 0\n",
      " [x] Sent  Haha Hihihi yang ke: 1\n",
      " [x] Sent  Haha Hihihi yang ke: 2\n",
      " [x] Sent  Haha Hihihi yang ke: 3\n",
      " [x] Sent  Haha Hihihi yang ke: 4\n",
      " [x] Sent  Haha Hihihi yang ke: 5\n",
      " [x] Sent  Haha Hihihi yang ke: 6\n",
      " [x] Sent  Haha Hihihi yang ke: 7\n",
      " [x] Sent  Haha Hihihi yang ke: 8\n",
      " [x] Sent  Haha Hihihi yang ke: 9\n"
     ]
    }
   ],
   "source": [
    "import nest_asyncio\n",
    "nest_asyncio.apply()\n",
    "\n",
    "await main()"
   ]
  }
 ],
 "metadata": {
  "kernelspec": {
   "display_name": "asrul-research",
   "language": "python",
   "name": "python3"
  },
  "language_info": {
   "codemirror_mode": {
    "name": "ipython",
    "version": 3
   },
   "file_extension": ".py",
   "mimetype": "text/x-python",
   "name": "python",
   "nbconvert_exporter": "python",
   "pygments_lexer": "ipython3",
   "version": "3.10.13"
  }
 },
 "nbformat": 4,
 "nbformat_minor": 2
}
